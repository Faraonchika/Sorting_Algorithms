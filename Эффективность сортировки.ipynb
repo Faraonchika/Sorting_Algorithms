{
 "cells": [
  {
   "cell_type": "code",
   "execution_count": 122,
   "metadata": {},
   "outputs": [],
   "source": [
    "from random import randint\n",
    "import time\n",
    "import matplotlib as mpl\n",
    "import matplotlib.pyplot as plt\n",
    "%matplotlib inline\n",
    "mpl.style.use(['ggplot'])\n",
    "from scipy.optimize import curve_fit\n",
    "import numpy as np"
   ]
  },
  {
   "cell_type": "markdown",
   "metadata": {},
   "source": [
    "## Пузырьком"
   ]
  },
  {
   "cell_type": "code",
   "execution_count": 77,
   "metadata": {},
   "outputs": [],
   "source": [
    "def bubbleSort(x): \n",
    "    n = len(x) \n",
    "    for i in range(n-1):\n",
    "        for j in range(0, n-i-1):  \n",
    "            if x[j] > x[j+1] : \n",
    "                x[j], x[j+1] = x[j+1], x[j] \n",
    "    return x"
   ]
  },
  {
   "cell_type": "markdown",
   "metadata": {},
   "source": [
    "## Вставками"
   ]
  },
  {
   "cell_type": "code",
   "execution_count": 78,
   "metadata": {},
   "outputs": [],
   "source": [
    "def insertionSort(x): \n",
    "    for i in range(1, len(x)): \n",
    "        insert = x[i] \n",
    "        j = i-1\n",
    "        while j >=0 and insert < x[j] : \n",
    "                x[j+1] = x[j] \n",
    "                j -= 1\n",
    "        x[j+1] = insert\n",
    "    return x"
   ]
  },
  {
   "cell_type": "markdown",
   "metadata": {},
   "source": [
    "## Слиянием"
   ]
  },
  {
   "cell_type": "code",
   "execution_count": 79,
   "metadata": {},
   "outputs": [],
   "source": [
    "def Merge(x, y):\n",
    "    if len(x) == 0:\n",
    "        return y\n",
    "    if len(y) == 0:\n",
    "        return x\n",
    "    if x[0] <= y[0]:\n",
    "        return [x[0]] + Merge(x[1:], y)\n",
    "    else:\n",
    "        return [y[0]] + Merge(x, y[1:])"
   ]
  },
  {
   "cell_type": "code",
   "execution_count": 80,
   "metadata": {},
   "outputs": [],
   "source": [
    "def MergeSort(a):\n",
    "    l = len(a)\n",
    "    if l > 1:\n",
    "        return Merge(MergeSort(a[:l//2]), MergeSort(a[l//2:]))\n",
    "    else:\n",
    "        return a"
   ]
  },
  {
   "cell_type": "markdown",
   "metadata": {},
   "source": [
    "### Проверим работу"
   ]
  },
  {
   "cell_type": "code",
   "execution_count": 81,
   "metadata": {},
   "outputs": [
    {
     "data": {
      "text/plain": [
       "[17, -8, -8, -3, 6, -6, 5, 4, 9, 20, 11, 17, -1, 1, 15, 20, -6, 7, 17, -9]"
      ]
     },
     "execution_count": 81,
     "metadata": {},
     "output_type": "execute_result"
    }
   ],
   "source": [
    "z = [randint(-10, 20) for i in range(20)]\n",
    "z"
   ]
  },
  {
   "cell_type": "code",
   "execution_count": 82,
   "metadata": {},
   "outputs": [
    {
     "data": {
      "text/plain": [
       "[-9, -8, -8, -6, -6, -3, -1, 1, 4, 5, 6, 7, 9, 11, 15, 17, 17, 17, 20, 20]"
      ]
     },
     "execution_count": 82,
     "metadata": {},
     "output_type": "execute_result"
    }
   ],
   "source": [
    "bubbleSort(z)"
   ]
  },
  {
   "cell_type": "code",
   "execution_count": 83,
   "metadata": {},
   "outputs": [
    {
     "data": {
      "text/plain": [
       "[-9, -8, -8, -6, -6, -3, -1, 1, 4, 5, 6, 7, 9, 11, 15, 17, 17, 17, 20, 20]"
      ]
     },
     "execution_count": 83,
     "metadata": {},
     "output_type": "execute_result"
    }
   ],
   "source": [
    "insertionSort(z)"
   ]
  },
  {
   "cell_type": "code",
   "execution_count": 84,
   "metadata": {},
   "outputs": [
    {
     "data": {
      "text/plain": [
       "[-9, -8, -8, -6, -6, -3, -1, 1, 4, 5, 6, 7, 9, 11, 15, 17, 17, 17, 20, 20]"
      ]
     },
     "execution_count": 84,
     "metadata": {},
     "output_type": "execute_result"
    }
   ],
   "source": [
    "MergeSort(z)"
   ]
  },
  {
   "cell_type": "markdown",
   "metadata": {},
   "source": [
    "### Оценим эффективность"
   ]
  },
  {
   "cell_type": "code",
   "execution_count": 85,
   "metadata": {},
   "outputs": [],
   "source": [
    "# Декоратор для удобства\n",
    "def mes_time(f):\n",
    "    def t(*args, **kwargs):\n",
    "        start=time.time()\n",
    "        f(*args, **kwargs)\n",
    "        end = time.time() - start\n",
    "        return end\n",
    "    return t"
   ]
  },
  {
   "cell_type": "code",
   "execution_count": 87,
   "metadata": {},
   "outputs": [],
   "source": [
    "@mes_time\n",
    "def time_bubbleSort(x): \n",
    "    n = len(x) \n",
    "    for i in range(n-1):\n",
    "        for j in range(0, n-i-1):  \n",
    "            if x[j] > x[j+1] : \n",
    "                x[j], x[j+1] = x[j+1], x[j] \n",
    "    return x"
   ]
  },
  {
   "cell_type": "code",
   "execution_count": 88,
   "metadata": {},
   "outputs": [],
   "source": [
    "@mes_time\n",
    "def time_insertionSort(x): \n",
    "    for i in range(1, len(x)): \n",
    "        insert = x[i] \n",
    "        j = i-1\n",
    "        while j >=0 and insert < x[j] : \n",
    "                x[j+1] = x[j] \n",
    "                j -= 1\n",
    "        x[j+1] = insert\n",
    "    return x"
   ]
  },
  {
   "cell_type": "code",
   "execution_count": 89,
   "metadata": {},
   "outputs": [],
   "source": [
    "@mes_time\n",
    "def time_MergeSort(a):\n",
    "    l = len(a)\n",
    "    if l > 1:\n",
    "        return Merge(MergeSort(a[:l//2]), MergeSort(a[l//2:]))\n",
    "    else:\n",
    "        return a"
   ]
  },
  {
   "cell_type": "code",
   "execution_count": 86,
   "metadata": {},
   "outputs": [],
   "source": [
    "Xo = [i for i in range(50, 1050, 50)]"
   ]
  },
  {
   "cell_type": "code",
   "execution_count": 96,
   "metadata": {},
   "outputs": [],
   "source": [
    "def good_measure(func, Xo, iterations=50):\n",
    "    output = []\n",
    "    for now in Xo:\n",
    "        t = 0\n",
    "        for it in range(iterations):\n",
    "            z = [randint(-1000, 1000) for i in range(now)]\n",
    "            t += func(z)\n",
    "        output.append(t/iterations)\n",
    "    return output"
   ]
  },
  {
   "cell_type": "markdown",
   "metadata": {},
   "source": [
    "#### Время работы:"
   ]
  },
  {
   "cell_type": "code",
   "execution_count": 98,
   "metadata": {},
   "outputs": [],
   "source": [
    "bubble_t = good_measure(time_bubbleSort, Xo, iterations=50)"
   ]
  },
  {
   "cell_type": "code",
   "execution_count": 100,
   "metadata": {},
   "outputs": [],
   "source": [
    "insertion_t = good_measure(time_insertionSort, Xo, iterations=50)"
   ]
  },
  {
   "cell_type": "code",
   "execution_count": 101,
   "metadata": {},
   "outputs": [],
   "source": [
    "Merge_t = good_measure(time_MergeSort, Xo, iterations=50)"
   ]
  },
  {
   "cell_type": "markdown",
   "metadata": {},
   "source": [
    "#### Функции аппроксимации"
   ]
  },
  {
   "cell_type": "code",
   "execution_count": 157,
   "metadata": {},
   "outputs": [],
   "source": [
    "def func_bubble(t, C):\n",
    "    return C*t**2"
   ]
  },
  {
   "cell_type": "code",
   "execution_count": 158,
   "metadata": {},
   "outputs": [],
   "source": [
    "def func_insertion(t, C):\n",
    "    return C*t**2"
   ]
  },
  {
   "cell_type": "code",
   "execution_count": 159,
   "metadata": {},
   "outputs": [],
   "source": [
    "def func_Merge(t, C):\n",
    "    return C*t*np.log(t)"
   ]
  },
  {
   "cell_type": "code",
   "execution_count": 160,
   "metadata": {},
   "outputs": [],
   "source": [
    "popt_bubble, pcov = curve_fit(func_bubble, Xo, bubble_t)"
   ]
  },
  {
   "cell_type": "code",
   "execution_count": 161,
   "metadata": {},
   "outputs": [],
   "source": [
    "popt_insertion, pcov = curve_fit(func_insertion, Xo, insertion_t)"
   ]
  },
  {
   "cell_type": "code",
   "execution_count": 162,
   "metadata": {},
   "outputs": [],
   "source": [
    "popt_Merge, pcov = curve_fit(func_Merge, Xo, Merge_t)"
   ]
  },
  {
   "cell_type": "markdown",
   "metadata": {},
   "source": [
    "#### Построим график:"
   ]
  },
  {
   "cell_type": "code",
   "execution_count": 178,
   "metadata": {},
   "outputs": [
    {
     "data": {
      "image/png": "[encoded data removed]",
      "text/plain": [
       "<Figure size 1440x216 with 3 Axes>"
      ]
     },
     "metadata": {},
     "output_type": "display_data"
    }
   ],
   "source": [
    "fig, axs = plt.subplots(1, 3, figsize=(20, 3), sharey=True)\n",
    "axs[0].scatter(Xo, bubble_t)\n",
    "axs[0].plot(Xo, func_bubble(np.array(Xo), *popt_bubble),'G')\n",
    "axs[0].set_ylabel('Секунды')\n",
    "axs[0].set_xlabel('Элементов в списке')\n",
    "axs[0].set_title('Сортировка пузырьком')\n",
    "axs[1].scatter(Xo, insertion_t)\n",
    "axs[1].plot(Xo, func_insertion(np.array(Xo), *popt_insertion), 'G')\n",
    "axs[1].set_xlabel('Элементов в списке')\n",
    "axs[1].set_title('Сортировка вставками')\n",
    "axs[2].scatter(Xo, Merge_t);\n",
    "axs[2].plot(Xo, func_Merge(np.array(Xo), *popt_Merge), 'G')\n",
    "axs[2].set_xlabel('Элементов в списке')\n",
    "axs[2].set_title('Сортировка слиянием');"
   ]
  },
  {
   "cell_type": "code",
   "execution_count": null,
   "metadata": {},
   "outputs": [],
   "source": []
  }
 ],
 "metadata": {
  "kernelspec": {
   "display_name": "Python 3",
   "language": "python",
   "name": "python3"
  },
  "language_info": {
   "codemirror_mode": {
    "name": "ipython",
    "version": 3
   },
   "file_extension": ".py",
   "mimetype": "text/x-python",
   "name": "python",
   "nbconvert_exporter": "python",
   "pygments_lexer": "ipython3",
   "version": "3.7.3"
  }
 },
 "nbformat": 4,
 "nbformat_minor": 2
}
